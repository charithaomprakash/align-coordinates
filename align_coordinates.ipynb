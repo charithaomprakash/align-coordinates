{
 "cells": [
  {
   "cell_type": "markdown",
   "id": "70b69e29",
   "metadata": {},
   "source": [
    "**Alignment of coordinates**"
   ]
  },
  {
   "cell_type": "markdown",
   "id": "2f87e2df",
   "metadata": {},
   "source": [
    "This notebook is a tutorial to to align the position coordinates(x, y) for\n",
    "each body marker(nosetip, paws, talibase etc.) obtained from DeepLabCut (DLC), over days\n",
    "to a single reference frame. \n",
    "\n",
    "During the course of the experiment, the location of the experimental set-up changes(which leads to large differences in place cell analysis/ analysing the time spent by a mouse in a certain location etc.)\n",
    "\n",
    "However, for comparable and reliable analysis between different experimental groups, it is important that there are no differences due to the position of the arena"
    "The output of the notebooks can then be used to perform some basic behavior analysis.\n",
    "\n",
    "To run the alignment, you will need the output DLC csv files, the position coordinates of the box saved as a numpy array(file name ending with '_to_align_keypoints.npy') and the position coordinates of the box you would like to use as the reference(file name ending with '_reference_keypoints.npy'). "
   ]
  },
  {
   "cell_type": "markdown",
   "id": "ea8c6412",
   "metadata": {},
   "source": [
    "Be sure you have the provided sample data downloaded and placed under /data in demo_notebook directory. \n",
    "The data folder should contain the following:\n",
    "\n",
    "demo_notebook_directory \\\n",
    "|--data \\\n",
    "    |--DLC_ouput.csv \\\n",
    "    |--reference_keypoints.npy \\\n",
    "    |--to_align_keypoints.npy \n",
    "\n",
    "Lets check to see if its there:"
   ]
  },
  {
   "cell_type": "code",
   "execution_count": null,
   "id": "0ddca990",
   "metadata": {},
   "outputs": [],
   "source": [
    "#Setup some imports \n",
    "import sys\n",
    "from pathlib import Path\n",
    "import ntpath\n",
    "import glob\n",
    "import os\n",
    "\n",
    "from utils import *\n"
   ]
  },
  {
   "cell_type": "code",
   "execution_count": null,
   "id": "20768cae",
   "metadata": {},
   "outputs": [],
   "source": [
    "data_path = os.path.join(os.getcwd(), 'data')\n",
    "ref_keypoints_path = glob.glob(os.path.join(data_path, \"*_reference_keypoints.npy*\"))[0]\n",
    "keypoints_path = glob.glob(os.path.join(data_path, \"*to_align_keypoints.npy*\"))[0]"
   ]
  },
  {
   "cell_type": "code",
   "execution_count": null,
   "id": "18661fc3",
   "metadata": {},
   "outputs": [],
   "source": [
    "if not os.listdir(data_path):\n",
    "    print(f'{data_path} is empty. Check if data has been downloaded and placed in the correct folder. Or check that file name and types')"
   ]
  },
  {
   "cell_type": "code",
   "execution_count": null,
   "id": "4a5907b8",
   "metadata": {},
   "outputs": [],
   "source": [
    "align_trajectores(data_path, ref_keypoints_path, keypoints_path,\n",
    "                    save_csvs_folder=data_path, align=True,  file_type='*.csv*')"
   ]
  },
  {
   "cell_type": "markdown",
   "id": "56834f06",
   "metadata": {},
   "source": [
    "Each plot shows the the realigned body keypoints for each body part.\n",
    "The outputs from DLC have now been aligned and saved. \n",
    "Now you can continue with further analysis"
   ]
  }
 ],
 "metadata": {
  "kernelspec": {
   "display_name": "Python 3 (ipykernel)",
   "language": "python",
   "name": "python3"
  },
  "language_info": {
   "codemirror_mode": {
    "name": "ipython",
    "version": 3
   },
   "file_extension": ".py",
   "mimetype": "text/x-python",
   "name": "python",
   "nbconvert_exporter": "python",
   "pygments_lexer": "ipython3",
   "version": "3.10.9"
  }
 },
 "nbformat": 4,
 "nbformat_minor": 5
}
